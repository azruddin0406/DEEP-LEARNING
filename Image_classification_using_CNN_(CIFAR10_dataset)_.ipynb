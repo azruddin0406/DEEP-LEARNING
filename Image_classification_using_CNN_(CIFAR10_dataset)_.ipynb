{
  "nbformat": 4,
  "nbformat_minor": 0,
  "metadata": {
    "colab": {
      "name": "Image classification using CNN (CIFAR10 dataset) .ipynb",
      "provenance": [],
      "authorship_tag": "ABX9TyOrLOYmDUoyidJD1acFM/QL",
      "include_colab_link": true
    },
    "kernelspec": {
      "name": "python3",
      "display_name": "Python 3"
    },
    "language_info": {
      "name": "python"
    }
  },
  "cells": [
    {
      "cell_type": "markdown",
      "metadata": {
        "id": "view-in-github",
        "colab_type": "text"
      },
      "source": [
        "<a href=\"https://colab.research.google.com/github/azruddin0406/DEEP-LEARNING/blob/main/Image_classification_using_CNN_(CIFAR10_dataset)_.ipynb\" target=\"_parent\"><img src=\"https://colab.research.google.com/assets/colab-badge.svg\" alt=\"Open In Colab\"/></a>"
      ]
    },
    {
      "cell_type": "code",
      "execution_count": 1,
      "metadata": {
        "id": "0lEvvFb1Rqnj"
      },
      "outputs": [],
      "source": [
        "import tensorflow as tf\n",
        "from tensorflow.keras import datasets, layers, models\n",
        "import matplotlib.pyplot as plt\n",
        "import numpy as np"
      ]
    },
    {
      "cell_type": "code",
      "source": [
        "(X_train, y_train), (X_test, y_test) = datasets.cifar10.load_data()\n",
        "X_train.shape"
      ],
      "metadata": {
        "colab": {
          "base_uri": "https://localhost:8080/"
        },
        "id": "l_2EIH5HR3b5",
        "outputId": "09bd8124-ef0d-408d-b172-db53652a6c1d"
      },
      "execution_count": 2,
      "outputs": [
        {
          "output_type": "stream",
          "name": "stdout",
          "text": [
            "Downloading data from https://www.cs.toronto.edu/~kriz/cifar-10-python.tar.gz\n",
            "170500096/170498071 [==============================] - 4s 0us/step\n",
            "170508288/170498071 [==============================] - 4s 0us/step\n"
          ]
        },
        {
          "output_type": "execute_result",
          "data": {
            "text/plain": [
              "(50000, 32, 32, 3)"
            ]
          },
          "metadata": {},
          "execution_count": 2
        }
      ]
    },
    {
      "cell_type": "code",
      "source": [
        " X_test.shape"
      ],
      "metadata": {
        "colab": {
          "base_uri": "https://localhost:8080/"
        },
        "id": "hUbK7Xy2R8ML",
        "outputId": "4081e133-aac6-491f-ee96-815880a64fc8"
      },
      "execution_count": 3,
      "outputs": [
        {
          "output_type": "execute_result",
          "data": {
            "text/plain": [
              "(10000, 32, 32, 3)"
            ]
          },
          "metadata": {},
          "execution_count": 3
        }
      ]
    },
    {
      "cell_type": "code",
      "source": [
        "y_train[:5]"
      ],
      "metadata": {
        "colab": {
          "base_uri": "https://localhost:8080/"
        },
        "id": "4eUhcfVTSADp",
        "outputId": "9ebcdfe6-eae3-48eb-f6ba-94752b0d3144"
      },
      "execution_count": 4,
      "outputs": [
        {
          "output_type": "execute_result",
          "data": {
            "text/plain": [
              "array([[6],\n",
              "       [9],\n",
              "       [9],\n",
              "       [4],\n",
              "       [1]], dtype=uint8)"
            ]
          },
          "metadata": {},
          "execution_count": 4
        }
      ]
    },
    {
      "cell_type": "code",
      "source": [
        "# Lets convert the above into one dimention array\n",
        "y_train = y_train.reshape(-1,)\n",
        "y_train[:5]"
      ],
      "metadata": {
        "colab": {
          "base_uri": "https://localhost:8080/"
        },
        "id": "FZ9hVVJDSB__",
        "outputId": "0f66ab6f-062e-40aa-b945-db837155f702"
      },
      "execution_count": 5,
      "outputs": [
        {
          "output_type": "execute_result",
          "data": {
            "text/plain": [
              "array([6, 9, 9, 4, 1], dtype=uint8)"
            ]
          },
          "metadata": {},
          "execution_count": 5
        }
      ]
    },
    {
      "cell_type": "code",
      "source": [
        "classes = [\"airplane\",\"automobile\",\"bird\",\"cat\",\"dog\",\"frog\",\"horse\",\"ship\",\"truck\"]"
      ],
      "metadata": {
        "id": "7KkigmMcSHp0"
      },
      "execution_count": 6,
      "outputs": []
    },
    {
      "cell_type": "code",
      "source": [
        "def plot_sample(X, y, index):\n",
        "    plt.figure(figsize=(15,2))\n",
        "    plt.imshow(X[index])\n",
        "    plt.xlabel(classes[y[index]])"
      ],
      "metadata": {
        "id": "CcZlGQYpSKiS"
      },
      "execution_count": 7,
      "outputs": []
    },
    {
      "cell_type": "code",
      "source": [
        "plot_sample(X_train, y_train, 3)"
      ],
      "metadata": {
        "colab": {
          "base_uri": "https://localhost:8080/",
          "height": 173
        },
        "id": "UHI_6IbOUlJT",
        "outputId": "5127540f-45c3-4422-c07c-7f714b73b632"
      },
      "execution_count": 8,
      "outputs": [
        {
          "output_type": "display_data",
          "data": {
            "image/png": "[encoded data removed]",
            "text/plain": [
              "<Figure size 1080x144 with 1 Axes>"
            ]
          },
          "metadata": {
            "needs_background": "light"
          }
        }
      ]
    },
    {
      "cell_type": "code",
      "source": [
        " X_train[0]"
      ],
      "metadata": {
        "colab": {
          "base_uri": "https://localhost:8080/"
        },
        "id": "vS27inm_UnVr",
        "outputId": "e5c491c4-a265-4642-ed72-dac9253ff470"
      },
      "execution_count": 9,
      "outputs": [
        {
          "output_type": "execute_result",
          "data": {
            "text/plain": [
              "array([[[ 59,  62,  63],\n",
              "        [ 43,  46,  45],\n",
              "        [ 50,  48,  43],\n",
              "        ...,\n",
              "        [158, 132, 108],\n",
              "        [152, 125, 102],\n",
              "        [148, 124, 103]],\n",
              "\n",
              "       [[ 16,  20,  20],\n",
              "        [  0,   0,   0],\n",
              "        [ 18,   8,   0],\n",
              "        ...,\n",
              "        [123,  88,  55],\n",
              "        [119,  83,  50],\n",
              "        [122,  87,  57]],\n",
              "\n",
              "       [[ 25,  24,  21],\n",
              "        [ 16,   7,   0],\n",
              "        [ 49,  27,   8],\n",
              "        ...,\n",
              "        [118,  84,  50],\n",
              "        [120,  84,  50],\n",
              "        [109,  73,  42]],\n",
              "\n",
              "       ...,\n",
              "\n",
              "       [[208, 170,  96],\n",
              "        [201, 153,  34],\n",
              "        [198, 161,  26],\n",
              "        ...,\n",
              "        [160, 133,  70],\n",
              "        [ 56,  31,   7],\n",
              "        [ 53,  34,  20]],\n",
              "\n",
              "       [[180, 139,  96],\n",
              "        [173, 123,  42],\n",
              "        [186, 144,  30],\n",
              "        ...,\n",
              "        [184, 148,  94],\n",
              "        [ 97,  62,  34],\n",
              "        [ 83,  53,  34]],\n",
              "\n",
              "       [[177, 144, 116],\n",
              "        [168, 129,  94],\n",
              "        [179, 142,  87],\n",
              "        ...,\n",
              "        [216, 184, 140],\n",
              "        [151, 118,  84],\n",
              "        [123,  92,  72]]], dtype=uint8)"
            ]
          },
          "metadata": {},
          "execution_count": 9
        }
      ]
    },
    {
      "cell_type": "code",
      "source": [
        "# Normalize the value\n",
        "X_train = X_train / 255\n",
        "X_test = X_test / 255"
      ],
      "metadata": {
        "id": "AbsWfxUIUrM_"
      },
      "execution_count": 10,
      "outputs": []
    },
    {
      "cell_type": "code",
      "source": [
        "# Lets first the accuracy with ANN\n",
        "ann = models.Sequential([\n",
        "    layers.Flatten(input_shape=(32,32,3)),\n",
        "    layers.Dense(3000, activation='relu'),\n",
        "    layers.Dense(1000, activation='relu'),\n",
        "    layers.Dense(10, activation='sigmoid')\n",
        "])\n",
        "\n",
        "ann.compile(optimizer='SGD',\n",
        "              loss='sparse_categorical_crossentropy',\n",
        "              metrics=['accuracy'])\n",
        "\n",
        "ann.fit(X_train, y_train, epochs=5)"
      ],
      "metadata": {
        "colab": {
          "base_uri": "https://localhost:8080/"
        },
        "id": "JeYCNIvzUxNR",
        "outputId": "179c2c71-0f10-47fe-f0d8-8ddf1790259d"
      },
      "execution_count": 11,
      "outputs": [
        {
          "output_type": "stream",
          "name": "stdout",
          "text": [
            "Epoch 1/5\n",
            "1563/1563 [==============================] - 92s 58ms/step - loss: 1.8202 - accuracy: 0.3493\n",
            "Epoch 2/5\n",
            "1563/1563 [==============================] - 91s 58ms/step - loss: 1.6259 - accuracy: 0.4261\n",
            "Epoch 3/5\n",
            "1563/1563 [==============================] - 91s 58ms/step - loss: 1.5437 - accuracy: 0.4565\n",
            "Epoch 4/5\n",
            "1563/1563 [==============================] - 91s 58ms/step - loss: 1.4832 - accuracy: 0.4759\n",
            "Epoch 5/5\n",
            "1563/1563 [==============================] - 91s 58ms/step - loss: 1.4346 - accuracy: 0.4934\n"
          ]
        },
        {
          "output_type": "execute_result",
          "data": {
            "text/plain": [
              "<keras.callbacks.History at 0x7fb059bd9310>"
            ]
          },
          "metadata": {},
          "execution_count": 11
        }
      ]
    },
    {
      "cell_type": "code",
      "source": [
        "ann.evaluate(X_test, y_test)"
      ],
      "metadata": {
        "colab": {
          "base_uri": "https://localhost:8080/"
        },
        "id": "pTzRcBVCU0Bc",
        "outputId": "6fdb38a2-6f07-42d0-921b-3d6105abeb84"
      },
      "execution_count": 12,
      "outputs": [
        {
          "output_type": "stream",
          "name": "stdout",
          "text": [
            "313/313 [==============================] - 7s 22ms/step - loss: 1.5656 - accuracy: 0.4464\n"
          ]
        },
        {
          "output_type": "execute_result",
          "data": {
            "text/plain": [
              "[1.565597414970398, 0.446399986743927]"
            ]
          },
          "metadata": {},
          "execution_count": 12
        }
      ]
    },
    {
      "cell_type": "code",
      "source": [
        "from sklearn.metrics import confusion_matrix, classification_report\n",
        "import numpy as np\n",
        "y_pred = ann.predict(X_test)\n",
        "y_pred_classes = [np.argmax(element) for element in y_pred]\n",
        "\n",
        "print('Classification Report: \\n', classification_report(y_test, y_pred_classes))"
      ],
      "metadata": {
        "colab": {
          "base_uri": "https://localhost:8080/"
        },
        "id": "9-PkdYdpXlE-",
        "outputId": "1599aecc-3205-4167-f89a-5b8b4395cf37"
      },
      "execution_count": 13,
      "outputs": [
        {
          "output_type": "stream",
          "name": "stdout",
          "text": [
            "Classification Report: \n",
            "               precision    recall  f1-score   support\n",
            "\n",
            "           0       0.57      0.44      0.50      1000\n",
            "           1       0.33      0.87      0.48      1000\n",
            "           2       0.42      0.28      0.34      1000\n",
            "           3       0.36      0.36      0.36      1000\n",
            "           4       0.60      0.23      0.33      1000\n",
            "           5       0.46      0.26      0.33      1000\n",
            "           6       0.47      0.60      0.53      1000\n",
            "           7       0.62      0.45      0.52      1000\n",
            "           8       0.51      0.64      0.57      1000\n",
            "           9       0.46      0.33      0.39      1000\n",
            "\n",
            "    accuracy                           0.45     10000\n",
            "   macro avg       0.48      0.45      0.43     10000\n",
            "weighted avg       0.48      0.45      0.43     10000\n",
            "\n"
          ]
        }
      ]
    },
    {
      "cell_type": "code",
      "source": [
        "# Lets use CNN model for predicton\n",
        "cnn = models.Sequential([\n",
        "    #cnn\n",
        "    layers.Conv2D(filters=32, kernel_size=(3,3), activation='relu', input_shape=(32,32,3)),\n",
        "    layers.MaxPool2D((2, 2)),\n",
        "    \n",
        "    layers.Conv2D(filters=64, kernel_size=(3,3), activation='relu'), \n",
        "    layers.MaxPool2D((2, 2)),\n",
        "    \n",
        "    #dense\n",
        "    layers.Flatten(),\n",
        "    layers.Dense(64, activation='relu'),\n",
        "    layers.Dense(10, activation='softmax')\n",
        "]) "
      ],
      "metadata": {
        "id": "tl7gACuGXrSY"
      },
      "execution_count": 14,
      "outputs": []
    },
    {
      "cell_type": "code",
      "source": [
        "cnn.compile(optimizer='adam',\n",
        "              loss='sparse_categorical_crossentropy',\n",
        "              metrics=['accuracy'])"
      ],
      "metadata": {
        "id": "Huc3eAXHXx7h"
      },
      "execution_count": 15,
      "outputs": []
    },
    {
      "cell_type": "code",
      "source": [
        "cnn.fit(X_train, y_train, epochs=10)"
      ],
      "metadata": {
        "colab": {
          "base_uri": "https://localhost:8080/"
        },
        "id": "NzIvoeJsX0lq",
        "outputId": "ba5ce842-9a2a-4b90-90cb-5ca87ef676ee"
      },
      "execution_count": 16,
      "outputs": [
        {
          "output_type": "stream",
          "name": "stdout",
          "text": [
            "Epoch 1/10\n",
            "1563/1563 [==============================] - 56s 36ms/step - loss: 1.5047 - accuracy: 0.4592\n",
            "Epoch 2/10\n",
            "1563/1563 [==============================] - 56s 36ms/step - loss: 1.1379 - accuracy: 0.6002\n",
            "Epoch 3/10\n",
            "1563/1563 [==============================] - 55s 35ms/step - loss: 1.0206 - accuracy: 0.6442\n",
            "Epoch 4/10\n",
            "1563/1563 [==============================] - 55s 35ms/step - loss: 0.9460 - accuracy: 0.6718\n",
            "Epoch 5/10\n",
            "1563/1563 [==============================] - 56s 36ms/step - loss: 0.8847 - accuracy: 0.6929\n",
            "Epoch 6/10\n",
            "1563/1563 [==============================] - 55s 36ms/step - loss: 0.8253 - accuracy: 0.7126\n",
            "Epoch 7/10\n",
            "1563/1563 [==============================] - 56s 36ms/step - loss: 0.7833 - accuracy: 0.7279\n",
            "Epoch 8/10\n",
            "1563/1563 [==============================] - 56s 36ms/step - loss: 0.7422 - accuracy: 0.7419\n",
            "Epoch 9/10\n",
            "1563/1563 [==============================] - 56s 36ms/step - loss: 0.7029 - accuracy: 0.7554\n",
            "Epoch 10/10\n",
            "1563/1563 [==============================] - 56s 36ms/step - loss: 0.6707 - accuracy: 0.7667\n"
          ]
        },
        {
          "output_type": "execute_result",
          "data": {
            "text/plain": [
              "<keras.callbacks.History at 0x7fb056a06f10>"
            ]
          },
          "metadata": {},
          "execution_count": 16
        }
      ]
    },
    {
      "cell_type": "code",
      "source": [
        "cnn.evaluate(X_test,y_test)"
      ],
      "metadata": {
        "colab": {
          "base_uri": "https://localhost:8080/"
        },
        "id": "CFor-h4XX3Y1",
        "outputId": "b89d4638-ded2-4610-e8ab-2277c5a2342a"
      },
      "execution_count": 17,
      "outputs": [
        {
          "output_type": "stream",
          "name": "stdout",
          "text": [
            "313/313 [==============================] - 3s 10ms/step - loss: 0.9253 - accuracy: 0.6977\n"
          ]
        },
        {
          "output_type": "execute_result",
          "data": {
            "text/plain": [
              "[0.9253484606742859, 0.697700023651123]"
            ]
          },
          "metadata": {},
          "execution_count": 17
        }
      ]
    },
    {
      "cell_type": "code",
      "source": [
        "y_test = y_test.reshape(-1)\n",
        "y_test[:5]"
      ],
      "metadata": {
        "colab": {
          "base_uri": "https://localhost:8080/"
        },
        "id": "IPemLgivajCA",
        "outputId": "37c00389-47b0-432e-ad92-82ef2c511c98"
      },
      "execution_count": 18,
      "outputs": [
        {
          "output_type": "execute_result",
          "data": {
            "text/plain": [
              "array([3, 8, 8, 0, 6], dtype=uint8)"
            ]
          },
          "metadata": {},
          "execution_count": 18
        }
      ]
    },
    {
      "cell_type": "code",
      "source": [
        "plot_sample(X_test, y_test, 1)"
      ],
      "metadata": {
        "colab": {
          "base_uri": "https://localhost:8080/",
          "height": 173
        },
        "id": "RnNscJlzamFg",
        "outputId": "3f4045a3-1b9f-458c-ea28-eeef4d93b65f"
      },
      "execution_count": 19,
      "outputs": [
        {
          "output_type": "display_data",
          "data": {
            "image/png": "[encoded data removed]",
            "text/plain": [
              "<Figure size 1080x144 with 1 Axes>"
            ]
          },
          "metadata": {
            "needs_background": "light"
          }
        }
      ]
    },
    {
      "cell_type": "code",
      "source": [
        "y_pred = cnn.predict(X_test)\n",
        "y_pred[:5]"
      ],
      "metadata": {
        "colab": {
          "base_uri": "https://localhost:8080/"
        },
        "id": "pxYixaADaoWp",
        "outputId": "5f77fd95-c56f-441a-f176-9f1ddfbaca62"
      },
      "execution_count": 20,
      "outputs": [
        {
          "output_type": "execute_result",
          "data": {
            "text/plain": [
              "array([[7.85463769e-03, 1.53604511e-03, 1.24286069e-02, 7.70149648e-01,\n",
              "        1.23109465e-04, 1.98889017e-01, 2.76965532e-03, 6.05374225e-05,\n",
              "        5.76051837e-03, 4.28247673e-04],\n",
              "       [1.09522464e-02, 1.57831423e-02, 3.01116393e-06, 1.42803483e-05,\n",
              "        3.74383194e-06, 2.53355958e-09, 5.92218186e-08, 1.94130780e-06,\n",
              "        9.72848058e-01, 3.93521652e-04],\n",
              "       [3.16464007e-02, 4.16370295e-02, 9.93559603e-04, 1.03421835e-02,\n",
              "        3.92336026e-03, 2.40353605e-04, 7.08527456e-04, 3.59827839e-03,\n",
              "        8.67259085e-01, 3.96512002e-02],\n",
              "       [9.82772410e-01, 5.28673921e-03, 4.86348697e-04, 2.68888148e-03,\n",
              "        1.97544717e-03, 3.14400449e-06, 8.20823770e-05, 3.68783622e-05,\n",
              "        4.82534012e-03, 1.84269820e-03],\n",
              "       [1.71442366e-06, 6.36902769e-05, 1.15397181e-02, 3.23517062e-02,\n",
              "        2.83521652e-01, 3.08259064e-03, 6.69093609e-01, 1.11755453e-05,\n",
              "        3.31779680e-04, 2.33049559e-06]], dtype=float32)"
            ]
          },
          "metadata": {},
          "execution_count": 20
        }
      ]
    },
    {
      "cell_type": "code",
      "source": [
        "np.argmax([5,12,1,2])"
      ],
      "metadata": {
        "colab": {
          "base_uri": "https://localhost:8080/"
        },
        "id": "Ig_09M5rarl1",
        "outputId": "e96e3bd2-c12b-4f16-b916-6f8887379bc0"
      },
      "execution_count": 21,
      "outputs": [
        {
          "output_type": "execute_result",
          "data": {
            "text/plain": [
              "1"
            ]
          },
          "metadata": {},
          "execution_count": 21
        }
      ]
    },
    {
      "cell_type": "code",
      "source": [
        "y_classes = [np.argmax(element) for element in y_pred]\n",
        "y_classes[:5]"
      ],
      "metadata": {
        "colab": {
          "base_uri": "https://localhost:8080/"
        },
        "id": "Kp-7SCgTawUn",
        "outputId": "05ccd869-9b34-4a26-8022-17fa56bd2c80"
      },
      "execution_count": 22,
      "outputs": [
        {
          "output_type": "execute_result",
          "data": {
            "text/plain": [
              "[3, 8, 8, 0, 6]"
            ]
          },
          "metadata": {},
          "execution_count": 22
        }
      ]
    },
    {
      "cell_type": "code",
      "source": [
        "y_test[:5]"
      ],
      "metadata": {
        "colab": {
          "base_uri": "https://localhost:8080/"
        },
        "id": "E8153t7IayEh",
        "outputId": "702b5031-26c3-49f5-aa2e-564402a7d385"
      },
      "execution_count": 23,
      "outputs": [
        {
          "output_type": "execute_result",
          "data": {
            "text/plain": [
              "array([3, 8, 8, 0, 6], dtype=uint8)"
            ]
          },
          "metadata": {},
          "execution_count": 23
        }
      ]
    },
    {
      "cell_type": "code",
      "source": [
        "plot_sample(X_test, y_test, 3)"
      ],
      "metadata": {
        "colab": {
          "base_uri": "https://localhost:8080/",
          "height": 173
        },
        "id": "Ovtc3U9Sa0BS",
        "outputId": "749235d9-d6df-458d-a790-bca1fb4df3e3"
      },
      "execution_count": 26,
      "outputs": [
        {
          "output_type": "display_data",
          "data": {
            "image/png": "[encoded data removed]",
            "text/plain": [
              "<Figure size 1080x144 with 1 Axes>"
            ]
          },
          "metadata": {
            "needs_background": "light"
          }
        }
      ]
    },
    {
      "cell_type": "code",
      "source": [
        "classes[y_classes[3]]"
      ],
      "metadata": {
        "colab": {
          "base_uri": "https://localhost:8080/",
          "height": 35
        },
        "id": "-JV825cAa2to",
        "outputId": "2e167bf6-c11c-4ad6-d866-bc3580ba3fe4"
      },
      "execution_count": 27,
      "outputs": [
        {
          "output_type": "execute_result",
          "data": {
            "application/vnd.google.colaboratory.intrinsic+json": {
              "type": "string"
            },
            "text/plain": [
              "'airplane'"
            ]
          },
          "metadata": {},
          "execution_count": 27
        }
      ]
    },
    {
      "cell_type": "code",
      "source": [
        "print(\"Classification Report: \\n\", classification_report(y_test, y_classes))"
      ],
      "metadata": {
        "colab": {
          "base_uri": "https://localhost:8080/"
        },
        "id": "tq8vzjyja6el",
        "outputId": "a7ec4106-2006-4e9a-a77f-f7b81f5edcb1"
      },
      "execution_count": 28,
      "outputs": [
        {
          "output_type": "stream",
          "name": "stdout",
          "text": [
            "Classification Report: \n",
            "               precision    recall  f1-score   support\n",
            "\n",
            "           0       0.71      0.77      0.74      1000\n",
            "           1       0.79      0.82      0.80      1000\n",
            "           2       0.61      0.56      0.58      1000\n",
            "           3       0.52      0.51      0.51      1000\n",
            "           4       0.72      0.53      0.61      1000\n",
            "           5       0.64      0.55      0.59      1000\n",
            "           6       0.74      0.80      0.77      1000\n",
            "           7       0.69      0.80      0.74      1000\n",
            "           8       0.81      0.81      0.81      1000\n",
            "           9       0.73      0.84      0.78      1000\n",
            "\n",
            "    accuracy                           0.70     10000\n",
            "   macro avg       0.70      0.70      0.69     10000\n",
            "weighted avg       0.70      0.70      0.69     10000\n",
            "\n"
          ]
        }
      ]
    },
    {
      "cell_type": "code",
      "source": [
        ""
      ],
      "metadata": {
        "id": "5sYUI_pBbAU3"
      },
      "execution_count": null,
      "outputs": []
    }
  ]
}